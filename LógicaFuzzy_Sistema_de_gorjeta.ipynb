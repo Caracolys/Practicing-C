{
  "nbformat": 4,
  "nbformat_minor": 0,
  "metadata": {
    "colab": {
      "provenance": [],
      "authorship_tag": "ABX9TyPzowZ2X0jhLKRiiFi4aYgZ",
      "include_colab_link": true
    },
    "kernelspec": {
      "name": "python3",
      "display_name": "Python 3"
    },
    "language_info": {
      "name": "python"
    }
  },
  "cells": [
    {
      "cell_type": "markdown",
      "metadata": {
        "id": "view-in-github",
        "colab_type": "text"
      },
      "source": [
        "<a href=\"https://colab.research.google.com/github/Caracolys/Practicing-C/blob/main/L%C3%B3gicaFuzzy_Sistema_de_gorjeta.ipynb\" target=\"_parent\"><img src=\"https://colab.research.google.com/assets/colab-badge.svg\" alt=\"Open In Colab\"/></a>"
      ]
    },
    {
      "cell_type": "markdown",
      "source": [
        "Atividade: Aplicar o código de lógica fuzzy presente no tutorial datacamp ou similar\n",
        "\n",
        "Aluna: Carolina Dubezkyj Quintana"
      ],
      "metadata": {
        "id": "X0T1mQf46JCn"
      }
    },
    {
      "cell_type": "markdown",
      "source": [
        "Proposta: Sistema que determina quanto de gorjeta dar ao garçom (0% a 25%) com base em duas entradas:\n",
        "\n",
        "- Qualidade da comida (0 a 10)\n",
        "- Qualidade do serviço (0 a 10)"
      ],
      "metadata": {
        "id": "xSUaZ5Qz6VcY"
      }
    },
    {
      "cell_type": "code",
      "execution_count": 25,
      "metadata": {
        "id": "PU08kcqZ4AWS"
      },
      "outputs": [],
      "source": [
        "import numpy as np\n",
        "import skfuzzy as fuzz\n",
        "from skfuzzy import control as ctrl\n"
      ]
    },
    {
      "cell_type": "code",
      "source": [
        "comida = ctrl.Antecedent(np.arange(0, 11, 1), 'comida')\n",
        "servico = ctrl.Antecedent(np.arange(0, 11, 1), 'servico')\n",
        "gorjeta = ctrl.Consequent(np.arange(0, 26, 1), 'gorjeta')"
      ],
      "metadata": {
        "id": "jrjpoOIN4yd0"
      },
      "execution_count": 26,
      "outputs": []
    },
    {
      "cell_type": "code",
      "source": [
        "comida.automf(3)\n",
        "servico.automf(3)"
      ],
      "metadata": {
        "id": "Rg6u4ETX5Nv0"
      },
      "execution_count": 27,
      "outputs": []
    },
    {
      "cell_type": "code",
      "source": [
        "gorjeta['baixa'] = fuzz.trimf(gorjeta.universe, [0, 0, 13])\n",
        "gorjeta['media'] = fuzz.trimf(gorjeta.universe, [0, 13, 25])\n",
        "gorjeta['alta'] = fuzz.trimf(gorjeta.universe, [13, 25, 25])"
      ],
      "metadata": {
        "id": "N9YxlHud5Tux"
      },
      "execution_count": 28,
      "outputs": []
    },
    {
      "cell_type": "code",
      "source": [
        "regra1 = ctrl.Rule(comida['poor'] | servico['poor'], gorjeta['baixa'])\n",
        "regra2 = ctrl.Rule(servico['average'], gorjeta['media'])\n",
        "regra3 = ctrl.Rule(servico['good'] | comida['good'], gorjeta['alta'])"
      ],
      "metadata": {
        "id": "_U7lcL375VOA"
      },
      "execution_count": 33,
      "outputs": []
    },
    {
      "cell_type": "code",
      "source": [
        "sistema_gorjeta = ctrl.ControlSystem([regra1, regra2, regra3])\n",
        "simulador = ctrl.ControlSystemSimulation(sistema_gorjeta)"
      ],
      "metadata": {
        "id": "V7uZtfVJ5faD"
      },
      "execution_count": 34,
      "outputs": []
    },
    {
      "cell_type": "code",
      "source": [
        "nota_comida = float(input(\"Dê uma nota de 0 a 10 para a comida: \"))\n",
        "nota_servico = float(input(\"Dê uma nota de 0 a 10 para o serviço: \"))"
      ],
      "metadata": {
        "colab": {
          "base_uri": "https://localhost:8080/"
        },
        "id": "C5KBX1pD5jUG",
        "outputId": "94800746-39d0-4f72-9d0f-4c3d132824f5"
      },
      "execution_count": 45,
      "outputs": [
        {
          "name": "stdout",
          "output_type": "stream",
          "text": [
            "Dê uma nota de 0 a 10 para a comida: 10\n",
            "Dê uma nota de 0 a 10 para o serviço: 10\n"
          ]
        }
      ]
    },
    {
      "cell_type": "code",
      "source": [
        "simulador.input['comida'] = nota_comida\n",
        "simulador.input['servico'] = nota_servico"
      ],
      "metadata": {
        "id": "AsyXLx1g5nr3"
      },
      "execution_count": 48,
      "outputs": []
    },
    {
      "cell_type": "code",
      "source": [
        "simulador.compute()\n",
        "print(f\"Sugestão de gorjeta: {simulador.output['gorjeta']:.2f}%\")"
      ],
      "metadata": {
        "colab": {
          "base_uri": "https://localhost:8080/"
        },
        "id": "SihDXh9I7muA",
        "outputId": "be291870-2dfb-4dc0-a2fe-e28d4c97a52c"
      },
      "execution_count": 49,
      "outputs": [
        {
          "output_type": "stream",
          "name": "stdout",
          "text": [
            "Sugestão de gorjeta: 21.00%\n"
          ]
        }
      ]
    }
  ]
}